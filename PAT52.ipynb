{
  "nbformat": 4,
  "nbformat_minor": 0,
  "metadata": {
    "colab": {
      "provenance": [],
      "toc_visible": true,
      "include_colab_link": true
    },
    "kernelspec": {
      "name": "python3",
      "display_name": "Python 3"
    },
    "language_info": {
      "name": "python"
    }
  },
  "cells": [
    {
      "cell_type": "markdown",
      "metadata": {
        "id": "view-in-github",
        "colab_type": "text"
      },
      "source": [
        "<a href=\"https://colab.research.google.com/github/MarLCh/PAT5/blob/main/PAT52.ipynb\" target=\"_parent\"><img src=\"https://colab.research.google.com/assets/colab-badge.svg\" alt=\"Open In Colab\"/></a>"
      ]
    },
    {
      "cell_type": "markdown",
      "source": [
        "A continuación se presenta un código en el que se crea una clase llamada CFecha.\n",
        "La clase se declara a continuación y define en el bloque siguiente.   \n",
        "Comience ejecutando cada celda en modo secuencial. Vea lo que sucede en cada paso."
      ],
      "metadata": {
        "id": "kmcNX7Sh1_7j"
      }
    },
    {
      "cell_type": "code",
      "execution_count": null,
      "metadata": {
        "colab": {
          "base_uri": "https://localhost:8080/"
        },
        "id": "de1GCQqCnOsq",
        "outputId": "152652c2-1ca5-4251-ff60-9f88c7a48149"
      },
      "outputs": [
        {
          "output_type": "stream",
          "name": "stdout",
          "text": [
            "Overwriting fecha.h\n"
          ]
        }
      ],
      "source": [
        "%%writefile fecha.h\n",
        "\n",
        "// fecha.h - Declaración de la clase CFecha\n",
        "#if !defined( _FECHA_H_ )\n",
        "#define _FECHA_H_\n",
        "\n",
        "// fecha.h - Declaración de la clase CFecha\n",
        "class CFecha\n",
        "{\n",
        "  // Atributos\n",
        "private:\n",
        "  int dia, mes, anyo;\n",
        "  // Métodos\n",
        "protected:\n",
        "  bool anyoBisiesto(int aaaa);\n",
        "  bool fechaValida(int dd, int mm, int aaaa);\n",
        "public:\n",
        "  bool asignarFecha(int dd, int mm, int aaaa);\n",
        "  void obtenerFecha(int& dd, int& mm, int& aaaa);\n",
        "};\n",
        "\n",
        "#endif // _FECHA_H_\n"
      ]
    },
    {
      "cell_type": "markdown",
      "source": [
        "Definición de los métodos de la clase CFecha."
      ],
      "metadata": {
        "id": "4QVZrPZG4GF7"
      }
    },
    {
      "cell_type": "code",
      "source": [
        "%%writefile fecha.cpp\n",
        "\n",
        "// fecha.cpp - Definición de los métodos de la clase CFecha\n",
        "#include <iostream>\n",
        "#include \"fecha.h\"\n",
        "using namespace std;\n",
        "\n",
        "bool CFecha::anyoBisiesto(int aaaa) const\n",
        "{\n",
        "    const_cast<CFecha *>(this)->dia = 3;\n",
        "    return ((aaaa % 4 == 0) && (aaaa % 100 != 0) || (aaaa % 400 == 0));\n",
        "}\n",
        "\n",
        "\n",
        "bool CFecha::asignarFecha(int dd, int mm, int aaaa)\n",
        "{\n",
        "    struct tm fh;\n",
        "    time_t segundos = {};\n",
        "    if (!fechaValida(dd, mm, aaaa))\n",
        "    {\n",
        "        time(&segundos);\n",
        "        localtime_s(&fh, &segundos);\n",
        "        if (aaaa == 0 && mm == 0 && dd == 0) // cero argumentos\n",
        "            dd = fh.tm_mday; // día de 1 a 31\n",
        "        if (aaaa == 0 && mm == 0) // un argumento\n",
        "            mm = fh.tm_mon + 1; // mes de 0 a 11; enero = 0\n",
        "        if (aaaa == 0) // dos argumentos\n",
        "            aaaa = fh.tm_year + 1900; // año - 1900\n",
        "\n",
        "        cout << \"Fecha incorrecta. Se asigna fecha actual.\\n\";\n",
        "    }\n",
        "    dia = dd; mes = mm; anyo = aaaa;\n",
        "    return true;\n",
        "}\n",
        "void CFecha::obtenerFecha(int& dd, int& mm, int& aaaa)\n",
        "{\n",
        "    dd = dia; mm = mes; aaaa = anyo;\n",
        "}\n",
        "\n",
        "bool CFecha::fechaValida(int dd, int mm, int aaaa)\n",
        "{\n",
        "    bool diaCorrecto, mesCorrecto, anyoCorrecto;\n",
        "    anyoCorrecto = (aaaa >= 1582); // ¿año correcto?\n",
        "    mesCorrecto = (mm >= 1) && (mm <= 12); // ¿mes correcto?\n",
        "    switch (mm)\n",
        "        // ¿día correcto?\n",
        "    {\n",
        "    case 2:\n",
        "        if (anyoBisiesto(aaaa))\n",
        "            diaCorrecto = (dd >= 1 && dd <= 29);\n",
        "        else\n",
        "            diaCorrecto = (dd >= 1 && dd <= 28);\n",
        "        break;\n",
        "    case 4: case 6: case 9: case 11:\n",
        "        diaCorrecto = (dd >= 1 && dd <= 30);\n",
        "        break;\n",
        "    default:\n",
        "        diaCorrecto = (dd >= 1 && dd <= 31);\n",
        "    }\n",
        "    return diaCorrecto && mesCorrecto && anyoCorrecto;\n",
        "}\n"
      ],
      "metadata": {
        "colab": {
          "base_uri": "https://localhost:8080/"
        },
        "id": "IOmhFKWPy1MT",
        "outputId": "3b19aeb6-3610-443d-dea3-63db596aca0d"
      },
      "execution_count": null,
      "outputs": [
        {
          "output_type": "stream",
          "name": "stdout",
          "text": [
            "Overwriting fecha.cpp\n"
          ]
        }
      ]
    },
    {
      "cell_type": "markdown",
      "source": [
        "Para poder probar su uso, se añade un archivo tesp.cpp. En la función main() se crea un objeto de tipo CFecha. El estado de este objeto se actualiza con una fecha que se lee de teclado. Compruebe si el código tiene errores, identifíquelos."
      ],
      "metadata": {
        "id": "jrQh5lZs4O3D"
      }
    },
    {
      "cell_type": "code",
      "source": [
        "%%writefile test.cpp\n",
        "// test.cpp - Trabajar con la clase CFecha\n",
        "#include <iostream>\n",
        "#include \"fecha.h\"\n",
        "using namespace std;\n",
        "\n",
        "void leerFecha(int&, int&, int&);\n",
        "void visualizarFecha(CFecha& fecha);\n",
        "\n",
        "int main()\n",
        "{\n",
        "    CFecha fecha; // objeto de tipo CFecha\n",
        "\n",
        "    int dd = 0, mm = 0, aaaa = 0;\n",
        "    bool fechaValida = true;\n",
        "    do\n",
        "    {\n",
        "        leerFecha(dd, mm, aaaa);\n",
        "        fechaValida = fecha.asignarFecha(dd, mm, aaaa);\n",
        "    } while (!fechaValida);\n",
        "    visualizarFecha(fecha);\n",
        "}\n",
        "\n",
        "void leerFecha(int& dia, int& mes, int& anyo)\n",
        "{\n",
        "    cout << \"día: \"; cin >> dia;\n",
        "    cout << \"mes: \"; cin >> mes;\n",
        "    cout << \"anyo: \"; cin >> anyo;\n",
        "}\n",
        "\n",
        "void visualizarFecha(CFecha& fecha)\n",
        "{\n",
        "    int dd, mm, aaaa;\n",
        "    fecha.obtenerFecha(dd, mm, aaaa);\n",
        "    cout << dd << \"/\" << mm << \"/\" << aaaa << \"\\n\";\n",
        "}"
      ],
      "metadata": {
        "colab": {
          "base_uri": "https://localhost:8080/"
        },
        "id": "JgeeDaW6zGmV",
        "outputId": "6ba9b3ce-b569-4586-d918-f2d7bf2088d2"
      },
      "execution_count": null,
      "outputs": [
        {
          "output_type": "stream",
          "name": "stdout",
          "text": [
            "Writing test.cpp\n"
          ]
        }
      ]
    },
    {
      "cell_type": "markdown",
      "source": [
        "Pruebe el código. ¿Aparece algún error de compilación?"
      ],
      "metadata": {
        "id": "RpZ_IsXq4YeC"
      }
    },
    {
      "cell_type": "code",
      "source": [
        "%%shell\n",
        "\n",
        "g++ fecha.cpp test.cpp -o fecha\n",
        "./fecha"
      ],
      "metadata": {
        "colab": {
          "base_uri": "https://localhost:8080/"
        },
        "id": "IZzNwK7HzRXj",
        "outputId": "63b1be46-b790-41e1-ca48-2bcfa0cbba83"
      },
      "execution_count": null,
      "outputs": [
        {
          "output_type": "stream",
          "name": "stdout",
          "text": [
            "día: 1\n",
            "mes: 2\n",
            "anyo: 20000\n",
            "1/2/20000\n"
          ]
        },
        {
          "output_type": "execute_result",
          "data": {
            "text/plain": []
          },
          "metadata": {},
          "execution_count": 31
        }
      ]
    },
    {
      "cell_type": "markdown",
      "source": [
        "Una vez identificados los errores, ejecute la celda siguiente."
      ],
      "metadata": {
        "id": "IPeKDDPX4fJq"
      }
    },
    {
      "cell_type": "code",
      "source": [
        "%%writefile fecha.cpp\n",
        "\n",
        "// fecha.cpp - Definición de los métodos de la clase CFecha\n",
        "#include <iostream>\n",
        "#include \"fecha.h\"\n",
        "using namespace std;\n",
        "\n",
        "bool CFecha::anyoBisiesto(int aaaa)\n",
        "{\n",
        "    const_cast<CFecha *>(this)->dia = 3;\n",
        "    return ((aaaa % 4 == 0) && (aaaa % 100 != 0) || (aaaa % 400 == 0));\n",
        "}\n",
        "\n",
        "\n",
        "bool CFecha::asignarFecha(int dd, int mm, int aaaa)\n",
        "{\n",
        "    struct tm fh;\n",
        "    time_t segundos = {};\n",
        "    if (!fechaValida(dd, mm, aaaa))\n",
        "    {\n",
        "        time(&segundos);\n",
        "        localtime_r(&segundos, &fh);\n",
        "        if (aaaa == 0 && mm == 0 && dd == 0) // cero argumentos\n",
        "            dd = fh.tm_mday; // día de 1 a 31\n",
        "        if (aaaa == 0 && mm == 0) // un argumento\n",
        "            mm = fh.tm_mon + 1; // mes de 0 a 11; enero = 0\n",
        "        if (aaaa == 0) // dos argumentos\n",
        "            aaaa = fh.tm_year + 1900; // año - 1900\n",
        "\n",
        "        cout << \"Fecha incorrecta. Se asigna fecha actual.\\n\";\n",
        "    }\n",
        "    dia = dd; mes = mm; anyo = aaaa;\n",
        "    return true;\n",
        "}\n",
        "void CFecha::obtenerFecha(int& dd, int& mm, int& aaaa)\n",
        "{\n",
        "    dd = dia; mm = mes; aaaa = anyo;\n",
        "}\n",
        "bool CFecha::fechaValida(int dd, int mm, int aaaa)\n",
        "{\n",
        "    bool diaCorrecto, mesCorrecto, anyoCorrecto;\n",
        "    anyoCorrecto = (aaaa >= 1582); // ¿año correcto?\n",
        "    mesCorrecto = (mm >= 1) && (mm <= 12); // ¿mes correcto?\n",
        "    switch (mm)\n",
        "        // ¿día correcto?\n",
        "    {\n",
        "    case 2:\n",
        "        if (anyoBisiesto(aaaa))\n",
        "            diaCorrecto = (dd >= 1 && dd <= 29);\n",
        "        else\n",
        "            diaCorrecto = (dd >= 1 && dd <= 28);\n",
        "        break;\n",
        "    case 4: case 6: case 9: case 11:\n",
        "        diaCorrecto = (dd >= 1 && dd <= 30);\n",
        "        break;\n",
        "    default:\n",
        "        diaCorrecto = (dd >= 1 && dd <= 31);\n",
        "    }\n",
        "    return diaCorrecto && mesCorrecto && anyoCorrecto;\n",
        "}\n"
      ],
      "metadata": {
        "colab": {
          "base_uri": "https://localhost:8080/"
        },
        "id": "mlRRTR6W0DRE",
        "outputId": "dc114a0d-d531-4261-a7f4-d07f169b8523"
      },
      "execution_count": null,
      "outputs": [
        {
          "output_type": "stream",
          "name": "stdout",
          "text": [
            "Overwriting fecha.cpp\n"
          ]
        }
      ]
    },
    {
      "cell_type": "markdown",
      "source": [
        "Prueba el funcionamiento del código."
      ],
      "metadata": {
        "id": "d-mo3bwW4tJy"
      }
    },
    {
      "cell_type": "code",
      "source": [
        "%%shell\n",
        "\n",
        "g++ fecha.cpp test.cpp -o fecha\n",
        "./fecha"
      ],
      "metadata": {
        "colab": {
          "base_uri": "https://localhost:8080/"
        },
        "id": "eLxHAwXW0Kqq",
        "outputId": "444f87cb-cef4-4e0a-9035-829c5c05097f"
      },
      "execution_count": null,
      "outputs": [
        {
          "output_type": "stream",
          "name": "stdout",
          "text": [
            "día: 3\n",
            "mes: 45\n",
            "anyo: 2067\n",
            "Fecha incorrecta. Se asigna fecha actual.\n",
            "3/45/2067\n"
          ]
        },
        {
          "output_type": "execute_result",
          "data": {
            "text/plain": []
          },
          "metadata": {},
          "execution_count": 28
        }
      ]
    },
    {
      "cell_type": "code",
      "source": [
        "%%writefile fecha.cpp\n",
        "// fecha.cpp - Definición de los métodos de la clase CFecha\n",
        "#include <iostream>\n",
        "#include \"fecha.h\"\n",
        "using namespace std;\n",
        "\n",
        "bool CFecha::anyoBisiesto(int aaaa)\n",
        "{\n",
        "    const_cast<CFecha *>(this)->dia = 3;\n",
        "    return ((aaaa % 4 == 0) && (aaaa % 100 != 0) || (aaaa % 400 == 0));\n",
        "}\n",
        "\n",
        "\n",
        "bool CFecha::asignarFecha(int dd, int mm, int aaaa)\n",
        "{\n",
        "    struct tm fh;\n",
        "    time_t segundos = {};\n",
        "\n",
        "    time(&segundos);\n",
        "    localtime_r(&segundos, &fh);\n",
        "    if (aaaa == 0 && mm == 0 && dd == 0) // cero argumentos\n",
        "        dd = fh.tm_mday; // día de 1 a 31\n",
        "    if (aaaa == 0 && mm == 0) // un argumento\n",
        "        mm = fh.tm_mon + 1; // mes de 0 a 11; enero = 0\n",
        "    if (aaaa == 0) // dos argumentos\n",
        "        aaaa = fh.tm_year + 1900; // año - 1900\n",
        "    if (!fechaValida(dd, mm, aaaa))\n",
        "    {\n",
        "        dd = fh.tm_mday; // día de 1 a 31\n",
        "        mm = fh.tm_mon + 1; // mes de 0 a 11; enero = 0\n",
        "        aaaa = fh.tm_year + 1900; // año - 1900\n",
        "\n",
        "        cout << \"Fecha incorrecta. Se asigna fecha actual.\\n\";\n",
        "    }\n",
        "    dia = dd; mes = mm; anyo = aaaa;\n",
        "    return true;\n",
        "}\n",
        "void CFecha::obtenerFecha(int& dd, int& mm, int& aaaa)\n",
        "{\n",
        "    dd = dia; mm = mes; aaaa = anyo;\n",
        "}\n",
        "bool CFecha::fechaValida(int dd, int mm, int aaaa)\n",
        "{\n",
        "    bool diaCorrecto, mesCorrecto, anyoCorrecto;\n",
        "    anyoCorrecto = (aaaa >= 1582); // ¿año correcto?\n",
        "    mesCorrecto = (mm >= 1) && (mm <= 12); // ¿mes correcto?\n",
        "    switch (mm)\n",
        "        // ¿día correcto?\n",
        "    {\n",
        "    case 2:\n",
        "        if (anyoBisiesto(aaaa))\n",
        "            diaCorrecto = (dd >= 1 && dd <= 29);\n",
        "        else\n",
        "            diaCorrecto = (dd >= 1 && dd <= 28);\n",
        "        break;\n",
        "    case 4: case 6: case 9: case 11:\n",
        "        diaCorrecto = (dd >= 1 && dd <= 30);\n",
        "        break;\n",
        "    default:\n",
        "        diaCorrecto = (dd >= 1 && dd <= 31);\n",
        "    }\n",
        "    return diaCorrecto && mesCorrecto && anyoCorrecto;\n",
        "}\n"
      ],
      "metadata": {
        "colab": {
          "base_uri": "https://localhost:8080/"
        },
        "id": "E2Gkq0Hh41C8",
        "outputId": "4899b147-1488-4518-ce74-11519f1bfd08"
      },
      "execution_count": null,
      "outputs": [
        {
          "output_type": "stream",
          "name": "stdout",
          "text": [
            "Overwriting fecha.cpp\n"
          ]
        }
      ]
    },
    {
      "cell_type": "code",
      "source": [
        "%%shell\n",
        "\n",
        "g++ fecha.cpp test.cpp -o fecha\n",
        "./fecha"
      ],
      "metadata": {
        "colab": {
          "base_uri": "https://localhost:8080/"
        },
        "id": "_ajqPYLQ5z2y",
        "outputId": "740db66c-22f7-4927-82ea-682fe6754511"
      },
      "execution_count": null,
      "outputs": [
        {
          "output_type": "stream",
          "name": "stdout",
          "text": [
            "día: 34\n",
            "mes: 45\n",
            "anyo: 222222\n",
            "Fecha incorrecta. Se asigna fecha actual.\n",
            "16/10/2023\n"
          ]
        },
        {
          "output_type": "execute_result",
          "data": {
            "text/plain": []
          },
          "metadata": {},
          "execution_count": 30
        }
      ]
    }
  ]
}